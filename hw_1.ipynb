{
 "cells": [
  {
   "cell_type": "markdown",
   "id": "83ab707c",
   "metadata": {},
   "source": [
    "#### 1. Из колоды в 52 карты извлекаются случайным образом 4 карты. a) Найти вероятность того, что все карты – крести. б) Найти вероятность, что среди 4-х карт окажется хотя бы один туз."
   ]
  },
  {
   "cell_type": "code",
   "execution_count": 1,
   "id": "a407734f",
   "metadata": {},
   "outputs": [],
   "source": [
    "import numpy as np\n",
    "from numpy import math as math"
   ]
  },
  {
   "cell_type": "code",
   "execution_count": 2,
   "id": "9c0f251c",
   "metadata": {},
   "outputs": [],
   "source": [
    "def permutation(n):\n",
    "    return int(math.factorial(n))"
   ]
  },
  {
   "cell_type": "code",
   "execution_count": 3,
   "id": "050a53a4",
   "metadata": {},
   "outputs": [],
   "source": [
    "def k_permutation(n, k):\n",
    "    return int(math.factorial(n) / math.factorial(n - k))"
   ]
  },
  {
   "cell_type": "code",
   "execution_count": 4,
   "id": "47c8dcb7",
   "metadata": {},
   "outputs": [],
   "source": [
    "def k_combinations(n, k):\n",
    "    return int(math.factorial(n)/ (math.factorial(n - k) * math.factorial(k)))"
   ]
  },
  {
   "cell_type": "markdown",
   "id": "59809028",
   "metadata": {},
   "source": [
    "Сочетаний из 4-х крести:"
   ]
  },
  {
   "cell_type": "code",
   "execution_count": 5,
   "id": "47f67664",
   "metadata": {
    "scrolled": true
   },
   "outputs": [
    {
     "data": {
      "text/plain": [
       "715"
      ]
     },
     "execution_count": 5,
     "metadata": {},
     "output_type": "execute_result"
    }
   ],
   "source": [
    "clubs = k_combinations(13, 4)\n",
    "clubs"
   ]
  },
  {
   "cell_type": "markdown",
   "id": "94a1429a",
   "metadata": {},
   "source": [
    "Всего сочетаний из 4 карт:"
   ]
  },
  {
   "cell_type": "code",
   "execution_count": 6,
   "id": "2b8a4364",
   "metadata": {},
   "outputs": [
    {
     "data": {
      "text/plain": [
       "270725"
      ]
     },
     "execution_count": 6,
     "metadata": {},
     "output_type": "execute_result"
    }
   ],
   "source": [
    "hand_four = k_combinations(52, 4)\n",
    "hand_four"
   ]
  },
  {
   "cell_type": "markdown",
   "id": "64d9a792",
   "metadata": {},
   "source": [
    "Вероятность того, что все 4 карты крести:"
   ]
  },
  {
   "cell_type": "code",
   "execution_count": 7,
   "id": "d15372c8",
   "metadata": {},
   "outputs": [
    {
     "name": "stdout",
     "output_type": "stream",
     "text": [
      "вероятность того, что все карты – крести: 0.26%\n"
     ]
    }
   ],
   "source": [
    "clubs_probability = clubs / hand_four\n",
    "print(f'вероятность того, что все карты – крести: {clubs_probability * 100:.2}%')"
   ]
  },
  {
   "cell_type": "markdown",
   "id": "f9eb3c62",
   "metadata": {},
   "source": [
    "A - среди выбранных хотя бы один туз (рука из 4-х карт):\n",
    "\n",
    "A = A1 + A2 + A3 + A4, где\n",
    "\n",
    "A1 - среди выбранных 1 туз\n",
    "$$A_{1} = C_{4}^1 * С_{48}^3$$\n",
    "\n",
    "A2 - среди выбранных 2 туз\n",
    "$$A_{2} = C_{4}^2 * С_{48}^2$$\n",
    "\n",
    "A3 - среди выбранных 3 туз\n",
    "$$A_{3} = C_{4}^3 * С_{48}^1$$\n",
    "\n",
    "A4 - среди выбранных 4 туз\n",
    "$$A_{4} = C_{4}^4$$"
   ]
  },
  {
   "cell_type": "code",
   "execution_count": 8,
   "id": "0dbc38c6",
   "metadata": {},
   "outputs": [
    {
     "name": "stdout",
     "output_type": "stream",
     "text": [
      "A1 = 69184\n",
      "A2 = 6768\n",
      "A3 = 192\n",
      "A4 = 1\n",
      "A = 76145\n"
     ]
    }
   ],
   "source": [
    "ace_1 = k_combinations(4, 1) * k_combinations(48, 3)\n",
    "ace_2 = k_combinations(4, 2) * k_combinations(48, 2)\n",
    "ace_3 = k_combinations(4, 3) * k_combinations(48, 1)\n",
    "ace_4 = k_combinations(4, 4)\n",
    "ace = (ace_1 + ace_2 + ace_3 + ace_4)\n",
    "print(f'A1 = {ace_1}')\n",
    "print(f'A2 = {ace_2}')\n",
    "print(f'A3 = {ace_3}')\n",
    "print(f'A4 = {ace_4}')\n",
    "print(f'A = {ace}')"
   ]
  },
  {
   "cell_type": "code",
   "execution_count": 9,
   "id": "67fa40d0",
   "metadata": {},
   "outputs": [
    {
     "name": "stdout",
     "output_type": "stream",
     "text": [
      "Вероятность, что среди 4-х карт окажется хотя бы один туз: 28.13%\n"
     ]
    }
   ],
   "source": [
    "ace_probability = (ace_1 + ace_2 + ace_3 + ace_4) / hand_four\n",
    "print(f'Вероятность, что среди 4-х карт окажется хотя бы один туз: {ace_probability*100:.2f}%')"
   ]
  },
  {
   "cell_type": "markdown",
   "id": "f7c07dd3",
   "metadata": {},
   "source": [
    "#### 2. На входной двери подъезда установлен кодовый замок, содержащий десять кнопок с цифрами от 0 до 9. Код содержит три цифры, которые нужно нажать одновременно. Какова вероятность того, что человек, не знающий код, откроет дверь с первой попытки?"
   ]
  },
  {
   "cell_type": "markdown",
   "id": "b4cc73ca",
   "metadata": {},
   "source": [
    "Т.к. нужно нажимать одновременно, то порядок не важен, поэтому кол-во кодов равно сочетанию 3 из 9"
   ]
  },
  {
   "cell_type": "code",
   "execution_count": 10,
   "id": "702c90fb",
   "metadata": {},
   "outputs": [
    {
     "name": "stdout",
     "output_type": "stream",
     "text": [
      "Всего таких кодов: 120\n",
      "Вероятность, что откроет с первого раза: 0.83%\n"
     ]
    }
   ],
   "source": [
    "code_amount = k_combinations(10, 3)\n",
    "print(f'Всего таких кодов: {code_amount}')\n",
    "print(f'Вероятность, что откроет с первого раза: {100 / code_amount:.2f}%')"
   ]
  },
  {
   "cell_type": "markdown",
   "id": "e5e607be",
   "metadata": {},
   "source": [
    "#### 3. В ящике имеется 15 деталей, из которых 9 окрашены. Рабочий случайным образом извлекает 3 детали. Какова вероятность того, что все извлеченные детали окрашены?"
   ]
  },
  {
   "cell_type": "markdown",
   "id": "d9b69532",
   "metadata": {},
   "source": [
    "##### Первый вариант:"
   ]
  },
  {
   "cell_type": "markdown",
   "id": "d84bb73f",
   "metadata": {},
   "source": [
    "Вероятность, что 1-я деталь будет окрашенной:"
   ]
  },
  {
   "cell_type": "code",
   "execution_count": 11,
   "id": "378c31f1",
   "metadata": {},
   "outputs": [],
   "source": [
    "painted_1 = 9/15"
   ]
  },
  {
   "cell_type": "markdown",
   "id": "00cd194d",
   "metadata": {},
   "source": [
    "Вероятность, что 2-я деталь будет окрашенной, при условии, что 1-я окрашена:"
   ]
  },
  {
   "cell_type": "code",
   "execution_count": 12,
   "id": "710c9c5f",
   "metadata": {},
   "outputs": [],
   "source": [
    "painted_2 = 8/14"
   ]
  },
  {
   "cell_type": "markdown",
   "id": "e507d2a1",
   "metadata": {},
   "source": [
    "Вероятность, что 3-я деталь будет окрашенной, при условии что первые 2 окрашены:"
   ]
  },
  {
   "cell_type": "code",
   "execution_count": 13,
   "id": "1545093b",
   "metadata": {},
   "outputs": [],
   "source": [
    "painted_3 = 7/13"
   ]
  },
  {
   "cell_type": "markdown",
   "id": "16cb86be",
   "metadata": {},
   "source": [
    "Т.о. вероятность, что все 3 окрашены:"
   ]
  },
  {
   "cell_type": "code",
   "execution_count": 14,
   "id": "35917f30",
   "metadata": {},
   "outputs": [
    {
     "name": "stdout",
     "output_type": "stream",
     "text": [
      "Вероятность того, что все извлеченные детали окрашены: 18.46%\n"
     ]
    }
   ],
   "source": [
    "painted = painted_1 * painted_2 * painted_3\n",
    "print(f'Вероятность того, что все извлеченные детали окрашены: {painted * 100:.2f}%')"
   ]
  },
  {
   "cell_type": "markdown",
   "id": "71db03fd",
   "metadata": {},
   "source": [
    "##### Второй вариант:"
   ]
  },
  {
   "cell_type": "markdown",
   "id": "9e3236ed",
   "metadata": {},
   "source": [
    "Вероятность, вытащить 3 окрашенных детали: $$\\frac{C_{9}^3}{C_{15}^3}$$"
   ]
  },
  {
   "cell_type": "code",
   "execution_count": 15,
   "id": "cc7336dc",
   "metadata": {},
   "outputs": [
    {
     "name": "stdout",
     "output_type": "stream",
     "text": [
      "Вероятность того, что все извлеченные детали окрашены: 18.46%\n"
     ]
    }
   ],
   "source": [
    "paint = k_combinations(9, 3) / k_combinations(15, 3)\n",
    "print(f'Вероятность того, что все извлеченные детали окрашены: {paint * 100:.2f}%')"
   ]
  },
  {
   "cell_type": "markdown",
   "id": "02ad507e",
   "metadata": {},
   "source": [
    "#### 4. В лотерее 100 билетов. Из них 2 выигрышных. Какова вероятность того, что 2 приобретенных билета окажутся выигрышными?"
   ]
  },
  {
   "cell_type": "markdown",
   "id": "8414bbb7",
   "metadata": {},
   "source": [
    "##### 1-й способ"
   ]
  },
  {
   "cell_type": "markdown",
   "id": "5f9f2bef",
   "metadata": {},
   "source": [
    "Вероятность, вытащить 2 выигрышных билета: $$\\frac{C_{2}^2}{C_{100}^2}$$"
   ]
  },
  {
   "cell_type": "code",
   "execution_count": 16,
   "id": "c281b98f",
   "metadata": {},
   "outputs": [
    {
     "name": "stdout",
     "output_type": "stream",
     "text": [
      "Вероятность, вытащить 2 выигрышных билета: 0.0002%\n"
     ]
    }
   ],
   "source": [
    "print(f'Вероятность, вытащить 2 выигрышных билета: {k_combinations(2, 2) / k_combinations(100, 2):.4f}%')"
   ]
  },
  {
   "cell_type": "markdown",
   "id": "a3447f13",
   "metadata": {},
   "source": [
    "##### 2-й способ"
   ]
  },
  {
   "cell_type": "markdown",
   "id": "5cd6204f",
   "metadata": {},
   "source": [
    "Вероятность, что 1-й билет будет выигрышным:"
   ]
  },
  {
   "cell_type": "code",
   "execution_count": 17,
   "id": "bf970c48",
   "metadata": {},
   "outputs": [],
   "source": [
    "win_1 = 2/100"
   ]
  },
  {
   "cell_type": "markdown",
   "id": "ef466c70",
   "metadata": {},
   "source": [
    "Вероятность, что 2-й билет будет выигрышным, при условии, что 1-й билет выигрышный:"
   ]
  },
  {
   "cell_type": "code",
   "execution_count": 18,
   "id": "cf82abf9",
   "metadata": {},
   "outputs": [],
   "source": [
    "win_2 = 1/99"
   ]
  },
  {
   "cell_type": "markdown",
   "id": "2773f913",
   "metadata": {},
   "source": [
    "Вероятность, что оба билета выигрышные:"
   ]
  },
  {
   "cell_type": "code",
   "execution_count": 19,
   "id": "fffbde3a",
   "metadata": {},
   "outputs": [
    {
     "name": "stdout",
     "output_type": "stream",
     "text": [
      "Вероятность, вытащить 2 выигрышных билета: 0.0002%\n"
     ]
    }
   ],
   "source": [
    "win = win_1 * win_2\n",
    "print(f'Вероятность, вытащить 2 выигрышных билета: {win:.4f}%')"
   ]
  }
 ],
 "metadata": {
  "kernelspec": {
   "display_name": "Python 3 (ipykernel)",
   "language": "python",
   "name": "python3"
  },
  "language_info": {
   "codemirror_mode": {
    "name": "ipython",
    "version": 3
   },
   "file_extension": ".py",
   "mimetype": "text/x-python",
   "name": "python",
   "nbconvert_exporter": "python",
   "pygments_lexer": "ipython3",
   "version": "3.9.12"
  }
 },
 "nbformat": 4,
 "nbformat_minor": 5
}
