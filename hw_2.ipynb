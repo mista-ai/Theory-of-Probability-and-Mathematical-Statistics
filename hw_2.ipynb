{
 "cells": [
  {
   "cell_type": "markdown",
   "id": "2a9829d7",
   "metadata": {},
   "source": [
    "#### 1. Вероятность того, что стрелок попадет в мишень, выстрелив один раз, равна 0.8. Стрелок выстрелил 100 раз. Найдите вероятность того, что стрелок попадет в цель ровно 85 раз."
   ]
  },
  {
   "cell_type": "code",
   "execution_count": 31,
   "id": "a6c83181",
   "metadata": {},
   "outputs": [],
   "source": [
    "import numpy as np"
   ]
  },
  {
   "cell_type": "code",
   "execution_count": 32,
   "id": "4171af00",
   "metadata": {},
   "outputs": [],
   "source": [
    "def fact(n):\n",
    "    return np.math.factorial(n)"
   ]
  },
  {
   "cell_type": "markdown",
   "id": "d984b601",
   "metadata": {},
   "source": [
    "$$P_{n}(X) = C_{n}^k * p^k * q^{(n-k)}$$\n",
    "n = 100, X = k = 85, p = 0.8, q = 0.2, "
   ]
  },
  {
   "cell_type": "code",
   "execution_count": 33,
   "id": "f7d2e2ea",
   "metadata": {},
   "outputs": [],
   "source": [
    "n = 100\n",
    "k = 85\n",
    "p = 0.8\n",
    "q = 0.2"
   ]
  },
  {
   "cell_type": "code",
   "execution_count": 34,
   "id": "47d34bef",
   "metadata": {},
   "outputs": [
    {
     "name": "stdout",
     "output_type": "stream",
     "text": [
      "Вероятность того, что стрелок попадет в цель ровно 85 раз, равна:  0.04806\n"
     ]
    }
   ],
   "source": [
    "result = fact(n) / (fact(n - k) * fact(k)) * p ** k * q ** (n - k)\n",
    "print(f'Вероятность того, что стрелок попадет в цель ровно 85 раз, равна: {result: .5f}')"
   ]
  },
  {
   "cell_type": "markdown",
   "id": "2781e126",
   "metadata": {},
   "source": [
    "#### 2. Вероятность того, что лампочка перегорит в течение первого дня эксплуатации, равна 0.0004. В жилом комплексе после ремонта в один день включили 5000 новых лампочек. Какова вероятность, что ни одна из них не перегорит в первый день? Какова вероятность, что перегорят ровно две?"
   ]
  },
  {
   "cell_type": "markdown",
   "id": "cc6e1aa1",
   "metadata": {},
   "source": [
    "#### А. Какова вероятность, что ни одна из них не перегорит в первый день?"
   ]
  },
  {
   "cell_type": "markdown",
   "id": "82f1d94f",
   "metadata": {},
   "source": [
    "$$P_m \\approx \\frac{\\lambda^m}{m!}e^{-\\lambda}$$\n",
    "\n",
    "p = 0.0004\n",
    "\n",
    "n = 5000\n",
    "\n",
    "lambda = p\\*n = 0.0004\\*5000 = 2\n",
    "\n",
    "m1 = 0\n",
    "\n",
    "m2 = 2"
   ]
  },
  {
   "cell_type": "code",
   "execution_count": 35,
   "id": "d6da9be7",
   "metadata": {},
   "outputs": [],
   "source": [
    "p = 0.0004\n",
    "n = 5000\n",
    "lambda_p = p * n\n",
    "lambda_p\n",
    "e = np.e\n",
    "m1 = 0\n",
    "m2 = 2"
   ]
  },
  {
   "cell_type": "code",
   "execution_count": 36,
   "id": "f9209eea",
   "metadata": {},
   "outputs": [
    {
     "name": "stdout",
     "output_type": "stream",
     "text": [
      "Вероятность, что ни одна из них не перегорит в первый день равна  0.13534\n"
     ]
    }
   ],
   "source": [
    "result_1 = lambda_p ** m1 / fact(m1) * e ** (-lambda_p)\n",
    "print(f'Вероятность, что ни одна из них не перегорит в первый день равна {result_1: .5f}')"
   ]
  },
  {
   "cell_type": "markdown",
   "id": "de2f8842",
   "metadata": {},
   "source": [
    "#### Б. Какова вероятность, что перегорят ровно две?"
   ]
  },
  {
   "cell_type": "code",
   "execution_count": 37,
   "id": "882ef464",
   "metadata": {},
   "outputs": [
    {
     "name": "stdout",
     "output_type": "stream",
     "text": [
      "Вероятность, что перегорят ровно две равна  0.27067\n"
     ]
    }
   ],
   "source": [
    "result_2 = lambda_p ** m2 / fact(m2) * e ** (-lambda_p)\n",
    "print(f'Вероятность, что перегорят ровно две равна {result_2: .5f}')"
   ]
  },
  {
   "cell_type": "markdown",
   "id": "a8f36fd2",
   "metadata": {},
   "source": [
    "#### 3. Монету подбросили 144 раза. Какова вероятность, что орел выпадет ровно 70 раз?"
   ]
  },
  {
   "cell_type": "markdown",
   "id": "dfe75476",
   "metadata": {},
   "source": [
    "$$P_{n}(X) = C_{n}^k * p^k * q^{(n-k)}$$\n",
    "n = 144, X = k = 70, p = 0.5, q = 0.5, "
   ]
  },
  {
   "cell_type": "code",
   "execution_count": 38,
   "id": "c4fe1fce",
   "metadata": {},
   "outputs": [],
   "source": [
    "n = 144\n",
    "k = 70\n",
    "p = 0.5\n",
    "q = 0.5"
   ]
  },
  {
   "cell_type": "code",
   "execution_count": 39,
   "id": "9e8978cf",
   "metadata": {},
   "outputs": [
    {
     "name": "stdout",
     "output_type": "stream",
     "text": [
      "Вероятность, что орел выпадет ровно 70 раз равна:  0.06281\n"
     ]
    }
   ],
   "source": [
    "result = fact(n) / (fact(n - k) * fact(k)) * p ** k * q ** (n - k)\n",
    "print(f'Вероятность, что орел выпадет ровно 70 раз равна: {result: .5f}')"
   ]
  },
  {
   "cell_type": "markdown",
   "id": "4cd29281",
   "metadata": {},
   "source": [
    "#### 4. В первом ящике находится 10 мячей, из которых 7 - белые. Во втором ящике - 11 мячей, из которых 9 белых. Из каждого ящика вытаскивают случайным образом по два мяча. Какова вероятность того, что все мячи белые? Какова вероятность того, что ровно два мяча белые? Какова вероятность того, что хотя бы один мяч белый?"
   ]
  },
  {
   "cell_type": "markdown",
   "id": "f0965521",
   "metadata": {},
   "source": [
    "##### A)  Какова вероятность того, что все мячи белые?"
   ]
  },
  {
   "cell_type": "markdown",
   "id": "8b4304a9",
   "metadata": {},
   "source": [
    "1-й способ.\n",
    "\n",
    "Берем 2 мяча из 1-го ящика. Вероятность, что 1-й мяч белый - 7/10. Вероятность, что 2-й мяч белый, если 1-й мяч белый - 6/9.\n",
    "\n",
    "Берём 2 мяча из 2-го ящика.\n",
    "Вероятность, что 1-й мяч белый - 9/11. Вероятность, что 2-й мяч белый, если 1-й мяч белый - 8/10.\n",
    "\n",
    "Итоговая вероятность равна произведению этих величин"
   ]
  },
  {
   "cell_type": "code",
   "execution_count": 40,
   "id": "c02c530d",
   "metadata": {},
   "outputs": [
    {
     "name": "stdout",
     "output_type": "stream",
     "text": [
      "Вероятность того, что все мячи белые:  0.30545\n"
     ]
    }
   ],
   "source": [
    "result = 7 / 10 * 6 / 9 * 9 / 11 * 8 / 10\n",
    "print(f'Вероятность того, что все мячи белые: {result: .5f}')"
   ]
  },
  {
   "cell_type": "markdown",
   "id": "87be9dee",
   "metadata": {},
   "source": [
    "2-й способ:"
   ]
  },
  {
   "cell_type": "code",
   "execution_count": 41,
   "id": "e19acf1f",
   "metadata": {},
   "outputs": [
    {
     "data": {
      "text/plain": [
       "21.0"
      ]
     },
     "execution_count": 41,
     "metadata": {},
     "output_type": "execute_result"
    }
   ],
   "source": [
    "# Сочетаний из 2-х белых в первом ящике:\n",
    "double_white_one = fact(7) / (fact(2) * fact(5))\n",
    "double_white_one"
   ]
  },
  {
   "cell_type": "code",
   "execution_count": 42,
   "id": "b0c39eca",
   "metadata": {},
   "outputs": [
    {
     "data": {
      "text/plain": [
       "45.0"
      ]
     },
     "execution_count": 42,
     "metadata": {},
     "output_type": "execute_result"
    }
   ],
   "source": [
    "# Всего сочетаний из 2-х мячей в 1-м яищке\n",
    "double_one = fact(10) / (fact(2) * fact(8))\n",
    "double_one"
   ]
  },
  {
   "cell_type": "markdown",
   "id": "e68eb852",
   "metadata": {},
   "source": [
    "prob_1 - Вероятность, что оба мяча с 1-го ящика белые"
   ]
  },
  {
   "cell_type": "code",
   "execution_count": 43,
   "id": "250ff476",
   "metadata": {},
   "outputs": [
    {
     "data": {
      "text/plain": [
       "0.4666666666666667"
      ]
     },
     "execution_count": 43,
     "metadata": {},
     "output_type": "execute_result"
    }
   ],
   "source": [
    "# вероятность, что оба мяча белые\n",
    "prob_1 = double_white_one / double_one\n",
    "prob_1"
   ]
  },
  {
   "cell_type": "code",
   "execution_count": 44,
   "id": "5a1df2a0",
   "metadata": {},
   "outputs": [
    {
     "data": {
      "text/plain": [
       "36.0"
      ]
     },
     "execution_count": 44,
     "metadata": {},
     "output_type": "execute_result"
    }
   ],
   "source": [
    "# сочетаний из 2-х белых во 2-м ящике:\n",
    "double_white_two = fact(9) / (fact(7) * fact(2))\n",
    "double_white_two"
   ]
  },
  {
   "cell_type": "code",
   "execution_count": 45,
   "id": "be004e16",
   "metadata": {},
   "outputs": [
    {
     "data": {
      "text/plain": [
       "55.0"
      ]
     },
     "execution_count": 45,
     "metadata": {},
     "output_type": "execute_result"
    }
   ],
   "source": [
    "# Всего сочетаний из 2-х мячей во 2-м яищке\n",
    "double_two = fact(11) / (fact(2) * fact(9))\n",
    "double_two"
   ]
  },
  {
   "cell_type": "markdown",
   "id": "aa80aadd",
   "metadata": {},
   "source": [
    "prob_2 - Вероятность, что оба мяча со 2-го ящика белые"
   ]
  },
  {
   "cell_type": "code",
   "execution_count": 46,
   "id": "44b9e87f",
   "metadata": {},
   "outputs": [
    {
     "data": {
      "text/plain": [
       "0.6545454545454545"
      ]
     },
     "execution_count": 46,
     "metadata": {},
     "output_type": "execute_result"
    }
   ],
   "source": [
    "# вероятность, что оба мяча белые\n",
    "prob_2 = double_white_two / double_two\n",
    "prob_2"
   ]
  },
  {
   "cell_type": "code",
   "execution_count": 47,
   "id": "60d38339",
   "metadata": {},
   "outputs": [
    {
     "name": "stdout",
     "output_type": "stream",
     "text": [
      "Вероятность того, что все мячи белые:  0.30545\n"
     ]
    }
   ],
   "source": [
    "result = prob_1 * prob_2\n",
    "print(f'Вероятность того, что все мячи белые: {result: .5f}')"
   ]
  },
  {
   "cell_type": "markdown",
   "id": "8d33ba70",
   "metadata": {},
   "source": [
    "##### Б) Какова вероятность того, что ровно два мяча белые?"
   ]
  },
  {
   "cell_type": "code",
   "execution_count": 48,
   "id": "af1eea74",
   "metadata": {},
   "outputs": [],
   "source": [
    "def combination(n, k):\n",
    "    return np.math.factorial(n) / (np.math.factorial(n - k) * np.math.factorial(k))"
   ]
  },
  {
   "cell_type": "raw",
   "id": "293bab37",
   "metadata": {},
   "source": [
    "P1 - 0 белых мячей из первого ящика и 2 белых мяча со 2-го ящика\n",
    "P2 - 1 белый мяч из первого ящика и 1 белый мяч со 2-го ящика\n",
    "P3 - 2 белых мяча из первого ящика и 0 белых мячей со 2-го ящика\n",
    "result = P1 + P2 + P3 - вероятность того, что ровно 2 мяча белые."
   ]
  },
  {
   "cell_type": "code",
   "execution_count": 49,
   "id": "61d3bf6c",
   "metadata": {},
   "outputs": [
    {
     "data": {
      "text/plain": [
       "0.04363636363636363"
      ]
     },
     "execution_count": 49,
     "metadata": {},
     "output_type": "execute_result"
    }
   ],
   "source": [
    "P1 = combination(3, 2) / combination(10, 2) * combination(9, 2) / combination(11, 2)\n",
    "P1"
   ]
  },
  {
   "cell_type": "code",
   "execution_count": 50,
   "id": "e2a5de0f",
   "metadata": {},
   "outputs": [
    {
     "data": {
      "text/plain": [
       "0.15272727272727274"
      ]
     },
     "execution_count": 50,
     "metadata": {},
     "output_type": "execute_result"
    }
   ],
   "source": [
    "P2 = combination(3, 1) * combination(7, 1) / combination(10, 2) * combination(2, 1) * combination(9, 1) / combination(11, 2)\n",
    "P2"
   ]
  },
  {
   "cell_type": "code",
   "execution_count": 51,
   "id": "c3d4edc4",
   "metadata": {},
   "outputs": [
    {
     "data": {
      "text/plain": [
       "0.008484848484848486"
      ]
     },
     "execution_count": 51,
     "metadata": {},
     "output_type": "execute_result"
    }
   ],
   "source": [
    "P3 = combination(7, 2) / combination(10, 2) * combination(2, 2) / combination(11, 2) \n",
    "P3"
   ]
  },
  {
   "cell_type": "code",
   "execution_count": 52,
   "id": "c271c074",
   "metadata": {},
   "outputs": [
    {
     "name": "stdout",
     "output_type": "stream",
     "text": [
      "Вероятность того, что ровно два мяча белые:  0.20\n"
     ]
    }
   ],
   "source": [
    "result = P1 + P2 + P3\n",
    "print(f'Вероятность того, что ровно два мяча белые: {result: .2f}')"
   ]
  },
  {
   "cell_type": "markdown",
   "id": "f0b6efa1",
   "metadata": {},
   "source": [
    "##### В) Какова вероятность того, что хотя бы один мяч белый?"
   ]
  },
  {
   "cell_type": "markdown",
   "id": "8b5435bc",
   "metadata": {},
   "source": [
    "Вычислим вероятность, когда ни один из мячей не белый."
   ]
  },
  {
   "cell_type": "code",
   "execution_count": 53,
   "id": "4e51367a",
   "metadata": {},
   "outputs": [
    {
     "data": {
      "text/plain": [
       "3.0"
      ]
     },
     "execution_count": 53,
     "metadata": {},
     "output_type": "execute_result"
    }
   ],
   "source": [
    "# Сочетаний из 2-х не белых в первом ящике:\n",
    "zero_white_one = fact(3) / (fact(2) * fact(1))\n",
    "zero_white_one"
   ]
  },
  {
   "cell_type": "code",
   "execution_count": 54,
   "id": "5a0c84e8",
   "metadata": {},
   "outputs": [
    {
     "data": {
      "text/plain": [
       "1.0"
      ]
     },
     "execution_count": 54,
     "metadata": {},
     "output_type": "execute_result"
    }
   ],
   "source": [
    "# Сочетаний из 2-х не белых во втором ящике:\n",
    "zero_white_two = fact(2) / (fact(2) * fact(0))\n",
    "zero_white_two"
   ]
  },
  {
   "cell_type": "code",
   "execution_count": 55,
   "id": "d5a99003",
   "metadata": {},
   "outputs": [
    {
     "data": {
      "text/plain": [
       "0.0012121212121212121"
      ]
     },
     "execution_count": 55,
     "metadata": {},
     "output_type": "execute_result"
    }
   ],
   "source": [
    "prob_zero = zero_white_one / double_one * zero_white_two / double_two\n",
    "prob_zero"
   ]
  },
  {
   "cell_type": "code",
   "execution_count": 56,
   "id": "f154ffbc",
   "metadata": {},
   "outputs": [
    {
     "name": "stdout",
     "output_type": "stream",
     "text": [
      "Вероятность того, что хотя бы один мяч белый:  0.99879\n"
     ]
    }
   ],
   "source": [
    "# Вероятность, что хотя бы один мяч белый\n",
    "result = 1 - prob_zero\n",
    "print(f'Вероятность того, что хотя бы один мяч белый: {result: .5f}')"
   ]
  }
 ],
 "metadata": {
  "kernelspec": {
   "display_name": "Python 3 (ipykernel)",
   "language": "python",
   "name": "python3"
  },
  "language_info": {
   "codemirror_mode": {
    "name": "ipython",
    "version": 3
   },
   "file_extension": ".py",
   "mimetype": "text/x-python",
   "name": "python",
   "nbconvert_exporter": "python",
   "pygments_lexer": "ipython3",
   "version": "3.9.12"
  }
 },
 "nbformat": 4,
 "nbformat_minor": 5
}
