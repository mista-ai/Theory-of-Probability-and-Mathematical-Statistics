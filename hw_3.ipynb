{
 "cells": [
  {
   "cell_type": "markdown",
   "id": "84efcedc",
   "metadata": {},
   "source": [
    "#### 1. Даны значения зарплат из выборки выпускников: 100, 80, 75, 77, 89, 33, 45, 25, 65, 17, 30, 24, 57, 55, 70, 75, 65, 84, 90, 150. Посчитать (желательно без использования статистических методов наподобие std, var, mean) среднее арифметическое, среднее квадратичное отклонение, смещенную и несмещенную оценки дисперсий для данной выборки."
   ]
  },
  {
   "cell_type": "code",
   "execution_count": 1,
   "id": "acf86019",
   "metadata": {},
   "outputs": [],
   "source": [
    "import numpy as np"
   ]
  },
  {
   "cell_type": "code",
   "execution_count": 2,
   "id": "95361019",
   "metadata": {},
   "outputs": [
    {
     "name": "stdout",
     "output_type": "stream",
     "text": [
      "[17, 24, 25, 30, 33, 45, 55, 57, 65, 65, 70, 75, 75, 77, 80, 84, 89, 90, 100, 150]\n"
     ]
    }
   ],
   "source": [
    "salaries = [100, 80, 75, 77, 89, 33, 45, 25, 65, 17, 30, 24, 57, 55, 70, 75, 65, 84, 90, 150]\n",
    "salaries.sort()\n",
    "n = len(salaries)\n",
    "print(salaries)"
   ]
  },
  {
   "cell_type": "code",
   "execution_count": 3,
   "id": "e9cb227d",
   "metadata": {},
   "outputs": [
    {
     "name": "stdout",
     "output_type": "stream",
     "text": [
      "Среднее арифмитическое: 65.3\n"
     ]
    }
   ],
   "source": [
    "# Среднее арифмитическое\n",
    "mean = sum(salaries) / len(salaries)\n",
    "print('Среднее арифмитическое:', mean)"
   ]
  },
  {
   "cell_type": "code",
   "execution_count": 4,
   "id": "d7d5e8e1",
   "metadata": {},
   "outputs": [
    {
     "data": {
      "text/plain": [
       "65.3"
      ]
     },
     "execution_count": 4,
     "metadata": {},
     "output_type": "execute_result"
    }
   ],
   "source": [
    "np.mean(salaries)"
   ]
  },
  {
   "cell_type": "code",
   "execution_count": 5,
   "id": "5220febb",
   "metadata": {},
   "outputs": [
    {
     "name": "stdout",
     "output_type": "stream",
     "text": [
      "Смещенная дисперсия: 950.11\n",
      "check: 950.11\n"
     ]
    }
   ],
   "source": [
    "# Смещенная дисперсия\n",
    "biased_std = sum([(x - mean) ** 2 / n for x in salaries])\n",
    "print(f'Смещенная дисперсия: {biased_std:.2f}')\n",
    "print(f'check: {np.var(salaries):.2f}')"
   ]
  },
  {
   "cell_type": "code",
   "execution_count": 6,
   "id": "d8d41279",
   "metadata": {},
   "outputs": [
    {
     "name": "stdout",
     "output_type": "stream",
     "text": [
      "Несмещенная дисперсия: 1000.12\n",
      "check: 1000.12\n"
     ]
    }
   ],
   "source": [
    "# Несмещенная дисперсия\n",
    "unbiased_std = sum([(x - mean) ** 2 / (n - 1) for x in salaries])\n",
    "print(f'Несмещенная дисперсия: {unbiased_std:.2f}')\n",
    "print(f'check: {np.var(salaries, ddof=1):.2f}')"
   ]
  },
  {
   "cell_type": "code",
   "execution_count": 7,
   "id": "d445eba3",
   "metadata": {},
   "outputs": [
    {
     "name": "stdout",
     "output_type": "stream",
     "text": [
      "Среднее квадратичное отклонение (смещенное): 30.82\n",
      "check: 30.82\n",
      "\n",
      "\n",
      "Среднее квадратичное отклонение (несмещенное): 31.62\n",
      "check: 31.62\n"
     ]
    }
   ],
   "source": [
    "# среднее квадратичное отклонение\n",
    "print(f'Среднее квадратичное отклонение (смещенное): {np.sqrt(biased_std):.2f}')\n",
    "print(f'check: {np.std(salaries):.2f}')\n",
    "\n",
    "print(f'\\n\\nСреднее квадратичное отклонение (несмещенное): {np.sqrt(unbiased_std):.2f}')\n",
    "print(f'check: {np.std(salaries, ddof=1):.2f}')"
   ]
  },
  {
   "cell_type": "markdown",
   "id": "409eec20",
   "metadata": {},
   "source": [
    "#### 2. В первом ящике находится 8 мячей, из которых 5 - белые. Во втором ящике - 12 мячей, из которых 5 белых. Из первого ящика вытаскивают случайным образом два мяча, из второго - 4. Какова вероятность того, что 3 мяча белые?"
   ]
  },
  {
   "cell_type": "raw",
   "id": "ba4093db",
   "metadata": {},
   "source": [
    "Так как в условии не \"только 3 мяча\", а 3 мяча, то берём не менее 3 мячей белые.\n",
    "\n",
    "Возможные варианты: \n",
    "1) из ящика 2 вытащили 4 белых\n",
    "2) из ящика 2 вытащили 3 белых\n",
    "3) из ящика 2 вытащили 2 белых и хотя бы один мяч белый из ящика 1\n",
    "4) из ящика 2 вытащили 1 белый и 2 мяча белые из ящика 1\n",
    "Результат равен сумме этих вероятностей\n",
    "\n",
    "1) "
   ]
  },
  {
   "cell_type": "code",
   "execution_count": 8,
   "id": "f1bbd67c",
   "metadata": {},
   "outputs": [],
   "source": [
    "def combination(n, k):\n",
    "    return np.math.factorial(n) / (np.math.factorial(n - k) * np.math.factorial(k))"
   ]
  },
  {
   "cell_type": "code",
   "execution_count": 9,
   "id": "8ee379ac",
   "metadata": {},
   "outputs": [
    {
     "data": {
      "text/plain": [
       "0.010101010101010102"
      ]
     },
     "execution_count": 9,
     "metadata": {},
     "output_type": "execute_result"
    }
   ],
   "source": [
    "# 1) из ящика 2 вытащили 4 белых\n",
    "prob_one = combination(5, 4) / combination(12, 4)\n",
    "prob_one"
   ]
  },
  {
   "cell_type": "code",
   "execution_count": 10,
   "id": "e2f7eada",
   "metadata": {},
   "outputs": [
    {
     "data": {
      "text/plain": [
       "0.1414141414141414"
      ]
     },
     "execution_count": 10,
     "metadata": {},
     "output_type": "execute_result"
    }
   ],
   "source": [
    "# 2) из ящика 2 вытащили только 3 белых\n",
    "prob_two = combination(5, 3) * combination(7, 1) / combination(12, 4)\n",
    "prob_two"
   ]
  },
  {
   "cell_type": "code",
   "execution_count": 11,
   "id": "e7b7e417",
   "metadata": {},
   "outputs": [
    {
     "name": "stdout",
     "output_type": "stream",
     "text": [
      "из ящика 2 вытащили 2 белых: 0.42424242424242425\n",
      "хотя бы один мяч белый из ящика 1: 0.8928571428571429\n"
     ]
    },
    {
     "data": {
      "text/plain": [
       "0.37878787878787884"
      ]
     },
     "execution_count": 11,
     "metadata": {},
     "output_type": "execute_result"
    }
   ],
   "source": [
    "# 3) из ящика 2 вытащили 2 белых и хотя бы один мяч белый из ящика 1\n",
    "second_two_white_prob = combination(5, 2) * combination(7, 2) / combination(12, 4)\n",
    "print('из ящика 2 вытащили 2 белых:', second_two_white_prob)\n",
    "first_nonzero_prob = 1 - combination(3, 2) / combination(8, 2)\n",
    "print('хотя бы один мяч белый из ящика 1:', first_nonzero_prob)\n",
    "prob_three = second_two_white_prob * first_nonzero_prob\n",
    "prob_three"
   ]
  },
  {
   "cell_type": "code",
   "execution_count": 12,
   "id": "3898519c",
   "metadata": {},
   "outputs": [
    {
     "name": "stdout",
     "output_type": "stream",
     "text": [
      "из ящика 2 вытащили 1 белый: 0.35353535353535354\n",
      "хотя бы один мяч белый из ящика 1: 0.35714285714285715\n"
     ]
    },
    {
     "data": {
      "text/plain": [
       "0.12626262626262627"
      ]
     },
     "execution_count": 12,
     "metadata": {},
     "output_type": "execute_result"
    }
   ],
   "source": [
    "# 4) из ящика 2 вытащили 1 белый и 2 мяча белые из ящика 1\n",
    "second_one_white_prob = combination(5, 1) * combination(7, 3) / combination(12, 4)\n",
    "print('из ящика 2 вытащили 1 белый:', second_one_white_prob)\n",
    "first_two_white_prob = combination(5, 2) / combination(8, 2)\n",
    "print('хотя бы один мяч белый из ящика 1:', first_two_white_prob)\n",
    "prob_four = second_one_white_prob * first_two_white_prob\n",
    "prob_four"
   ]
  },
  {
   "cell_type": "code",
   "execution_count": 13,
   "id": "a45eabe2",
   "metadata": {},
   "outputs": [
    {
     "name": "stdout",
     "output_type": "stream",
     "text": [
      "Вероятность того, что 3 мяча белые: 0.6566\n",
      "Или: 65.66%\n"
     ]
    }
   ],
   "source": [
    "result = prob_one + prob_two + prob_three + prob_four\n",
    "print(f'Вероятность того, что 3 мяча белые: {result:.4f}')\n",
    "print(f'Или: {result*100:.2f}%')"
   ]
  },
  {
   "cell_type": "markdown",
   "id": "d748b7ad",
   "metadata": {},
   "source": [
    "#### 2.1. Вероятность того, что только 3 мяча белые"
   ]
  },
  {
   "cell_type": "code",
   "execution_count": 14,
   "id": "219e8218",
   "metadata": {},
   "outputs": [
    {
     "name": "stdout",
     "output_type": "stream",
     "text": [
      "0.10714285714285714\n",
      "0.5357142857142857\n",
      "0.35714285714285715\n",
      "0.35353535353535354\n",
      "0.42424242424242425\n",
      "0.1414141414141414\n"
     ]
    }
   ],
   "source": [
    "# 0 белых в 1-м\n",
    "pfirst_zero = combination(3, 2) / combination(8, 2)\n",
    "print(pfirst_zero)\n",
    "\n",
    "# 1 белый в 1-м\n",
    "pfirst_one = combination(5, 1) * combination(3, 1) / combination(8, 2)\n",
    "print(pfirst_one)\n",
    "\n",
    "# 2 белых в 1-м\n",
    "pfirst_two = combination(5, 2) / combination(8, 2)\n",
    "print(pfirst_two)\n",
    "\n",
    "# 1 белый во 2-м\n",
    "psecond_one = combination(5, 1) * combination(7, 3) / combination(12, 4)\n",
    "print(psecond_one)\n",
    "\n",
    "# 2 белых во 2-м\n",
    "psecond_two = combination(5, 2) * combination(7, 2) / combination(12, 4)\n",
    "print(psecond_two)\n",
    "\n",
    "# 3 белых во 2-м\n",
    "psecond_three = combination(5, 3) * combination(7, 1) / combination(12, 4)\n",
    "print(psecond_three)"
   ]
  },
  {
   "cell_type": "raw",
   "id": "2f714f91",
   "metadata": {},
   "source": [
    "Подходят такие вариации (1-й ящик и 2-й ящик)\n",
    "1) 0 белых и 3 белых\n",
    "2) 1 белый и 2 белых\n",
    "3) 2 белых и 1 белый\n",
    "Ответ равен сумме этих вероятностей этих вариаций"
   ]
  },
  {
   "cell_type": "code",
   "execution_count": 15,
   "id": "42f29490",
   "metadata": {},
   "outputs": [
    {
     "name": "stdout",
     "output_type": "stream",
     "text": [
      "Вероятность того, что только 3 мяча белые: 0.36869\n",
      "Или 36.87%\n"
     ]
    }
   ],
   "source": [
    "result = pfirst_zero * psecond_three + pfirst_one * psecond_two + pfirst_two * psecond_one\n",
    "print(f'Вероятность того, что только 3 мяча белые: {result:.5f}')\n",
    "print(f'Или {result*100:.2f}%')"
   ]
  },
  {
   "cell_type": "markdown",
   "id": "54aafa58",
   "metadata": {},
   "source": [
    "#### 3. На соревновании по биатлону один из трех спортсменов стреляет и попадает в мишень. Вероятность попадания для первого спортсмена равна 0.9, для второго — 0.8, для третьего — 0.6. Найти вероятность того, что выстрел произведен: a). первым спортсменом б). вторым спортсменом в). третьим спортсменом."
   ]
  },
  {
   "cell_type": "markdown",
   "id": "8ba112cf",
   "metadata": {},
   "source": [
    "$$P(B\\:|\\:A) = \\frac{P(B) \\cdot P(A\\:|\\:B)}{P(A)}$$"
   ]
  },
  {
   "cell_type": "raw",
   "id": "843f7351",
   "metadata": {},
   "source": [
    "P(B) = 1/3\n",
    "P(A|B) - [0.9, 0.8, 0.6]\n",
    "P(A) = 0.9 * 1/3 + 0.8 * 1/3 + 0.6 * 1/3"
   ]
  },
  {
   "cell_type": "code",
   "execution_count": 16,
   "id": "cda6e7b8",
   "metadata": {},
   "outputs": [],
   "source": [
    "pb = 1/3\n",
    "pa = 0.9 * pb + 0.8 * pb + 0.6 * pb"
   ]
  },
  {
   "cell_type": "code",
   "execution_count": 17,
   "id": "c450c5c0",
   "metadata": {},
   "outputs": [
    {
     "name": "stdout",
     "output_type": "stream",
     "text": [
      "а) Вероятность того, что выстрел произведен первым спортсменом: 0.3913\n",
      "б) Вероятность того, что выстрел произведен вторым спортсменом: 0.3478\n",
      "в) Вероятность того, что выстрел произведен третьим спортсменом: 0.2609\n"
     ]
    }
   ],
   "source": [
    "p1 = 0.9 * pb / pa\n",
    "p2 = 0.8 * pb / pa\n",
    "p3 = 0.6 * pb / pa\n",
    "print(f'а) Вероятность того, что выстрел произведен первым спортсменом: {p1:.4f}')\n",
    "print(f'б) Вероятность того, что выстрел произведен вторым спортсменом: {p2:.4f}')\n",
    "print(f'в) Вероятность того, что выстрел произведен третьим спортсменом: {p3:.4f}')"
   ]
  },
  {
   "cell_type": "markdown",
   "id": "d6186d99",
   "metadata": {},
   "source": [
    "#### В университет на факультеты A и B поступило равное количество студентов, а на факультет C студентов поступило столько же, сколько на A и B вместе. Вероятность того, что студент факультета A сдаст первую сессию, равна 0.8. Для студента факультета B эта вероятность равна 0.7, а для студента факультета C - 0.9. Студент сдал первую сессию. Какова вероятность, что он учится: a). на факультете A б). на факультете B в). на факультете C?"
   ]
  },
  {
   "cell_type": "markdown",
   "id": "8d829265",
   "metadata": {},
   "source": [
    "$$P(B\\:|\\:A) = \\frac{P(B) \\cdot P(A\\:|\\:B)}{P(A)}$$"
   ]
  },
  {
   "cell_type": "code",
   "execution_count": 18,
   "id": "5a3b7943",
   "metadata": {},
   "outputs": [
    {
     "name": "stdout",
     "output_type": "stream",
     "text": [
      "0.825 0.25 0.25 0.5\n"
     ]
    }
   ],
   "source": [
    "pa = 1/4 * 0.8 + 1/4 * 0.7 + 1/2 * 0.9\n",
    "\n",
    "pba = pbb = 1/4\n",
    "pbc = 1/2\n",
    "print(pa, pba, pbb, pbc)"
   ]
  },
  {
   "cell_type": "code",
   "execution_count": 19,
   "id": "30634b5c",
   "metadata": {},
   "outputs": [
    {
     "name": "stdout",
     "output_type": "stream",
     "text": [
      "Вероятность, что он учится на факультете A: 0.2424\n"
     ]
    }
   ],
   "source": [
    "#  a). на факультете A\n",
    "result_a = pba * 0.8 / pa\n",
    "print(f'Вероятность, что он учится на факультете A: {result_a:.4f}')"
   ]
  },
  {
   "cell_type": "code",
   "execution_count": 20,
   "id": "8fd3d9e9",
   "metadata": {},
   "outputs": [
    {
     "name": "stdout",
     "output_type": "stream",
     "text": [
      "Вероятность, что он учится на факультете A: 0.2121\n"
     ]
    }
   ],
   "source": [
    "#  б). на факультете B\n",
    "result_b = pbb * 0.7 / pa\n",
    "print(f'Вероятность, что он учится на факультете A: {result_b:.4f}')"
   ]
  },
  {
   "cell_type": "code",
   "execution_count": 21,
   "id": "9126c9fe",
   "metadata": {},
   "outputs": [
    {
     "name": "stdout",
     "output_type": "stream",
     "text": [
      "Вероятность, что он учится на факультете A: 0.5455\n"
     ]
    }
   ],
   "source": [
    "#  в). на факультете C\n",
    "result_c = pbc * 0.9 / pa\n",
    "print(f'Вероятность, что он учится на факультете A: {result_c:.4f}')"
   ]
  },
  {
   "cell_type": "markdown",
   "id": "29626a92",
   "metadata": {},
   "source": [
    "#### 5. Устройство состоит из трех деталей. Для первой детали вероятность выйти из строя в первый месяц равна 0.1, для второй - 0.2, для третьей - 0.25. Какова вероятность того, что в первый месяц выйдут из строя: а). все детали б). только две детали в). хотя бы одна деталь г). от одной до двух деталей?"
   ]
  },
  {
   "cell_type": "code",
   "execution_count": 22,
   "id": "d9bb0382",
   "metadata": {},
   "outputs": [
    {
     "name": "stdout",
     "output_type": "stream",
     "text": [
      "Вероятность того, что в первый месяц выйдут из строя все детали: 0.005\n"
     ]
    }
   ],
   "source": [
    "# а). все детали\n",
    "pa = 0.1 * 0.2 * 0.25\n",
    "print(f'Вероятность того, что в первый месяц выйдут из строя все детали: {pa:.3f}')"
   ]
  },
  {
   "cell_type": "code",
   "execution_count": 23,
   "id": "2cae4967",
   "metadata": {},
   "outputs": [
    {
     "name": "stdout",
     "output_type": "stream",
     "text": [
      "Вероятность того, что в первый месяц выйдут из строя только две детали: 0.08\n"
     ]
    }
   ],
   "source": [
    "# б). только две детали\n",
    "pb = 0.1 * 0.2 * 0.75 + 0.1 * 0.8 * 0.25 + 0.9 * 0.2 * 0.25\n",
    "print(f'Вероятность того, что в первый месяц выйдут из строя только две детали: {pb:.2f}')"
   ]
  },
  {
   "cell_type": "code",
   "execution_count": 24,
   "id": "c1564913",
   "metadata": {},
   "outputs": [
    {
     "name": "stdout",
     "output_type": "stream",
     "text": [
      "Вероятность того, что в первый месяц выйдет из строя хотя бы одна деталь: 0.46\n"
     ]
    }
   ],
   "source": [
    "# в). хотя бы одна деталь\n",
    "pc = pa + pb + (0.1 * 0.8 * 0.75 + 0.9 * 0.2 * 0.75 + 0.9 * 0.8 * 0.25)\n",
    "print(f'Вероятность того, что в первый месяц выйдет из строя хотя бы одна деталь: {pc:.2f}')"
   ]
  },
  {
   "cell_type": "code",
   "execution_count": 25,
   "id": "fa2787ab",
   "metadata": {},
   "outputs": [
    {
     "name": "stdout",
     "output_type": "stream",
     "text": [
      "Вероятность того, что в первый месяц выйдут из строя от одной до двух деталей: 0.455\n"
     ]
    }
   ],
   "source": [
    "# г). от одной до двух деталей?\n",
    "result = pc - pa\n",
    "print(f'Вероятность того, что в первый месяц выйдут из строя от одной до двух деталей: {result:.3f}')"
   ]
  },
  {
   "cell_type": "code",
   "execution_count": 26,
   "id": "1ced0b8a",
   "metadata": {},
   "outputs": [
    {
     "data": {
      "text/plain": [
       "0.455"
      ]
     },
     "execution_count": 26,
     "metadata": {},
     "output_type": "execute_result"
    }
   ],
   "source": [
    "# check\n",
    "result = (0.1 * 0.2 * 0.75 + 0.1 * 0.8 * 0.25 + 0.9 * 0.2 * 0.25) + (0.1 * 0.8 * 0.75 + 0.9 * 0.2 * 0.75 + 0.9 * 0.8 * 0.25)\n",
    "result"
   ]
  },
  {
   "cell_type": "code",
   "execution_count": null,
   "id": "577677ad",
   "metadata": {},
   "outputs": [],
   "source": []
  }
 ],
 "metadata": {
  "kernelspec": {
   "display_name": "Python 3 (ipykernel)",
   "language": "python",
   "name": "python3"
  },
  "language_info": {
   "codemirror_mode": {
    "name": "ipython",
    "version": 3
   },
   "file_extension": ".py",
   "mimetype": "text/x-python",
   "name": "python",
   "nbconvert_exporter": "python",
   "pygments_lexer": "ipython3",
   "version": "3.9.12"
  }
 },
 "nbformat": 4,
 "nbformat_minor": 5
}
