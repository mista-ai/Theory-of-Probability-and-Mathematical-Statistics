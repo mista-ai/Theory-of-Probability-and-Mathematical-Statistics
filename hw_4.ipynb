{
 "cells": [
  {
   "cell_type": "code",
   "execution_count": 1,
   "id": "e408ad04",
   "metadata": {},
   "outputs": [],
   "source": [
    "import numpy as np"
   ]
  },
  {
   "cell_type": "markdown",
   "id": "35b60892",
   "metadata": {},
   "source": [
    "#### 1. Случайная непрерывная величина A имеет равномерное распределение на промежутке (200, 800]. Найдите ее среднее значение и дисперсию."
   ]
  },
  {
   "cell_type": "code",
   "execution_count": 2,
   "id": "ce9601bc",
   "metadata": {},
   "outputs": [],
   "source": [
    "a = 200\n",
    "b = 800"
   ]
  },
  {
   "cell_type": "code",
   "execution_count": 3,
   "id": "78a2b784",
   "metadata": {},
   "outputs": [
    {
     "name": "stdout",
     "output_type": "stream",
     "text": [
      "Среднее значение M(A) = 500.0\n"
     ]
    }
   ],
   "source": [
    "print(f'Среднее значение M(A) = {(a + b) / 2}')"
   ]
  },
  {
   "cell_type": "code",
   "execution_count": 4,
   "id": "5b5e177d",
   "metadata": {},
   "outputs": [
    {
     "name": "stdout",
     "output_type": "stream",
     "text": [
      "Дисперсия D(A) = 30000.0\n"
     ]
    }
   ],
   "source": [
    "print(f'Дисперсия D(A) = {(b - a) ** 2 / 12}')"
   ]
  },
  {
   "cell_type": "markdown",
   "id": "d23bec44",
   "metadata": {},
   "source": [
    "#### 2. О случайной непрерывной равномерно распределенной величине B известно, что ее дисперсия равна 0.2. Можно ли найти правую границу величины B и ее среднее значение зная, что левая граница равна 0.5? Если да, найдите ее."
   ]
  },
  {
   "cell_type": "code",
   "execution_count": 5,
   "id": "f6c26052",
   "metadata": {},
   "outputs": [],
   "source": [
    "D = 0.2\n",
    "a = 0.5"
   ]
  },
  {
   "cell_type": "code",
   "execution_count": 6,
   "id": "e8351a67",
   "metadata": {},
   "outputs": [
    {
     "name": "stdout",
     "output_type": "stream",
     "text": [
      "Левая граница: 2.049\n"
     ]
    }
   ],
   "source": [
    "b = a + np.math.sqrt(D * 12)\n",
    "print(f'Левая граница: {b:.3f}')"
   ]
  },
  {
   "cell_type": "code",
   "execution_count": 7,
   "id": "b02a3a14",
   "metadata": {},
   "outputs": [
    {
     "name": "stdout",
     "output_type": "stream",
     "text": [
      "Среднее значение В: 1.275\n"
     ]
    }
   ],
   "source": [
    "print(f'Среднее значение В: {(a + b) / 2:.3f}')"
   ]
  },
  {
   "cell_type": "markdown",
   "id": "3c8a2b4a",
   "metadata": {},
   "source": [
    "#### 3. Непрерывная случайная величина X распределена нормально и задана плотностью распределения\n",
    "$$f(x) = \\frac{1}{4\\sqrt{2 \\pi}} e ^ {- \\frac{(x + 2)^2}{32}},$$\n",
    "#### Найдите:\n",
    "#### а). M(X)\n",
    "#### б). D(X)\n",
    "#### в). std(X) (среднее квадратичное отклонение)"
   ]
  },
  {
   "cell_type": "markdown",
   "id": "89de4fe2",
   "metadata": {},
   "source": [
    "$$f(x) = \\frac{1}{\\sigma \\sqrt{2 \\pi}} e ^ {- \\frac{(x - a)^2}{2 \\sigma^2}},$$\n",
    "где $a = M(X), \\; \\sigma^2 = D(X).$"
   ]
  },
  {
   "cell_type": "markdown",
   "id": "2f3e582d",
   "metadata": {},
   "source": [
    "Ответ:\n",
    "\n",
    "a) M(X) = a = -2\n",
    "\n",
    "б) $D(X) = \\sigma^2 = 16$\n",
    "\n",
    "в) $std(X) = \\sigma = 4$"
   ]
  },
  {
   "cell_type": "markdown",
   "id": "736cb3e2",
   "metadata": {},
   "source": [
    "#### 4. Рост взрослого населения города X имеет нормальное распределение.\n",
    "#### Причем, средний рост равен 174 см, а среднее квадратичное отклонение равно 8 см.\n",
    "#### Какова вероятность того, что случайным образом выбранный взрослый человек имеет рост:\n",
    "#### а). больше 182 см\n",
    "#### б). больше 190 см\n",
    "#### в). от 166 см до 190 см\n",
    "#### г). от 166 см до 182 см\n",
    "#### д). от 158 см до 190 см\n",
    "#### е). не выше 150 см или не ниже 190 см\n",
    "#### ё). не выше 150 см или не ниже 198 см\n",
    "#### ж). ниже 166 см."
   ]
  },
  {
   "cell_type": "code",
   "execution_count": 8,
   "id": "fdd2a524",
   "metadata": {},
   "outputs": [],
   "source": [
    "m = 174\n",
    "std = 8"
   ]
  },
  {
   "cell_type": "markdown",
   "id": "6b270cfb",
   "metadata": {},
   "source": [
    "Три сигмы:"
   ]
  },
  {
   "cell_type": "code",
   "execution_count": 9,
   "id": "293347d2",
   "metadata": {},
   "outputs": [],
   "source": [
    "sigma1 = 68\n",
    "sigma2 = 95.4\n",
    "sigma3 = 99.72"
   ]
  },
  {
   "cell_type": "markdown",
   "id": "a4c0ceee",
   "metadata": {},
   "source": [
    "#### а). больше 182 см"
   ]
  },
  {
   "cell_type": "raw",
   "id": "71c5877e",
   "metadata": {},
   "source": [
    "Люди выше 182 см, нах-ся правее sigma1, поэтому отнимем от 1 sigma1. И т.к. распределение симметрично, можем поделить на два (потому что мы получаем помимо необходимых нам наблюдений правее области sigma1, также те, что левее области sigma1)"
   ]
  },
  {
   "cell_type": "code",
   "execution_count": 10,
   "id": "19792276",
   "metadata": {},
   "outputs": [
    {
     "name": "stdout",
     "output_type": "stream",
     "text": [
      "Вероятность того, что случайным образом выбранный взрослый человек имеет рост больше 182 см: 16.0%\n"
     ]
    }
   ],
   "source": [
    "result = (100 - sigma1) / 2\n",
    "print(f'Вероятность того, что случайным образом выбранный взрослый человек имеет рост больше 182 см: {result}%')"
   ]
  },
  {
   "cell_type": "markdown",
   "id": "18a2ce8f",
   "metadata": {},
   "source": [
    "#### б). больше 190 см"
   ]
  },
  {
   "cell_type": "raw",
   "id": "db3ba367",
   "metadata": {},
   "source": [
    "Воспользуемся правилом 3-х сигм."
   ]
  },
  {
   "cell_type": "code",
   "execution_count": 11,
   "id": "8ba2f347",
   "metadata": {},
   "outputs": [
    {
     "name": "stdout",
     "output_type": "stream",
     "text": [
      "Вероятность того, что случайным образом выбранный взрослый человек имеет рост больше 190 см: 2.30%\n"
     ]
    }
   ],
   "source": [
    "result = (100 - sigma2) / 2\n",
    "print(f'Вероятность того, что случайным образом выбранный взрослый человек имеет рост больше 190 см: {result:.2f}%')"
   ]
  },
  {
   "cell_type": "markdown",
   "id": "5d609eaa",
   "metadata": {},
   "source": [
    "#### в). от 166 см до 190 см"
   ]
  },
  {
   "cell_type": "markdown",
   "id": "d5cb9c1e",
   "metadata": {},
   "source": [
    "Результат находится между $-\\sigma$ и $2\\sigma$"
   ]
  },
  {
   "cell_type": "code",
   "execution_count": 12,
   "id": "6c94fdbf",
   "metadata": {},
   "outputs": [
    {
     "name": "stdout",
     "output_type": "stream",
     "text": [
      "Вероятность того, что случайным образом выбранный взрослый человек имеет рост от 166 см до 190 см: 81.7%\n"
     ]
    }
   ],
   "source": [
    "result = (sigma2 - sigma1) / 2 + sigma1\n",
    "print(f'Вероятность того, что случайным образом выбранный взрослый человек имеет рост от 166 см до 190 см: {result:.1f}%')"
   ]
  },
  {
   "cell_type": "markdown",
   "id": "b60cc469",
   "metadata": {},
   "source": [
    "#### г). от 166 см до 182 см"
   ]
  },
  {
   "cell_type": "markdown",
   "id": "fefaf4df",
   "metadata": {},
   "source": [
    "Результат находится между $-\\sigma$ и $\\sigma$"
   ]
  },
  {
   "cell_type": "code",
   "execution_count": 13,
   "id": "2c729383",
   "metadata": {},
   "outputs": [
    {
     "name": "stdout",
     "output_type": "stream",
     "text": [
      "Вероятность того, что случайным образом выбранный взрослый человек имеет рост от 166 см до 182 см: 68%\n"
     ]
    }
   ],
   "source": [
    "print(f'Вероятность того, что случайным образом выбранный взрослый человек имеет рост от 166 см до 182 см: {sigma1}%')"
   ]
  },
  {
   "cell_type": "markdown",
   "id": "27b5cbae",
   "metadata": {},
   "source": [
    "#### д). от 158 см до 190 см\n",
    "Результат находится между $-2\\sigma$ и $2\\sigma$"
   ]
  },
  {
   "cell_type": "code",
   "execution_count": 14,
   "id": "00542927",
   "metadata": {},
   "outputs": [
    {
     "name": "stdout",
     "output_type": "stream",
     "text": [
      "Вероятность того, что случайным образом выбранный взрослый человек имеет рост от 166 см до 190 см: 95.4%\n"
     ]
    }
   ],
   "source": [
    "print(f'Вероятность того, что случайным образом выбранный взрослый человек имеет рост от 166 см до 190 см: {sigma2}%')"
   ]
  },
  {
   "cell_type": "markdown",
   "id": "58c180a2",
   "metadata": {},
   "source": [
    "#### е). не выше 150 см или не ниже 190 см\n",
    "Результат находится до $-3\\sigma$ и от $2\\sigma$"
   ]
  },
  {
   "cell_type": "code",
   "execution_count": 15,
   "id": "bddc167e",
   "metadata": {},
   "outputs": [
    {
     "name": "stdout",
     "output_type": "stream",
     "text": [
      "Вероятность того, что случайным образом выбранный взрослый человек имеет рост не выше 150 см или не ниже 190 см: 2.44%\n"
     ]
    }
   ],
   "source": [
    "result = (100 - sigma3) / 2 + (100 - sigma2) / 2\n",
    "print(f'Вероятность того, что случайным образом выбранный взрослый человек имеет рост не выше 150 см \\\n",
    "или не ниже 190 см: {result:.2f}%')"
   ]
  },
  {
   "cell_type": "markdown",
   "id": "70281811",
   "metadata": {},
   "source": [
    "#### ё). не выше 150 см или не ниже 198 см"
   ]
  },
  {
   "cell_type": "markdown",
   "id": "bd2e5f00",
   "metadata": {},
   "source": [
    "Результат находится до $-3\\sigma$ и от $3\\sigma$"
   ]
  },
  {
   "cell_type": "code",
   "execution_count": 16,
   "id": "acab83d4",
   "metadata": {},
   "outputs": [
    {
     "name": "stdout",
     "output_type": "stream",
     "text": [
      "Вероятность того, что случайным образом выбранный взрослый человек имеет рост не выше 150 см или не ниже 198 см: 0.28%\n"
     ]
    }
   ],
   "source": [
    "result = 100 - sigma3\n",
    "print(f'Вероятность того, что случайным образом выбранный взрослый человек имеет рост \\\n",
    "не выше 150 см или не ниже 198 см: {result:.2f}%')"
   ]
  },
  {
   "cell_type": "markdown",
   "id": "7de73140",
   "metadata": {},
   "source": [
    "#### ж). ниже 166 см."
   ]
  },
  {
   "cell_type": "markdown",
   "id": "b7013647",
   "metadata": {},
   "source": [
    "Результат находится до $-\\sigma$"
   ]
  },
  {
   "cell_type": "code",
   "execution_count": 17,
   "id": "28884771",
   "metadata": {},
   "outputs": [
    {
     "name": "stdout",
     "output_type": "stream",
     "text": [
      "Вероятность того, что случайным образом выбранный взрослый человек имеет рост ниже 166 см: 16.0%\n"
     ]
    }
   ],
   "source": [
    "result = (100 - sigma1) / 2\n",
    "print(f'Вероятность того, что случайным образом выбранный взрослый человек имеет рост ниже 166 см: {result}%')"
   ]
  },
  {
   "cell_type": "markdown",
   "id": "87dde249",
   "metadata": {},
   "source": [
    "#### 5. На сколько сигм (средних квадратичных отклонений) отклоняется рост человека, равный 190 см, от математического ожидания роста в популяции, в которой M(X) = 178 см и D(X) = 25 кв.см?"
   ]
  },
  {
   "cell_type": "code",
   "execution_count": 18,
   "id": "fd07a45d",
   "metadata": {},
   "outputs": [
    {
     "name": "stdout",
     "output_type": "stream",
     "text": [
      "Ответ: на 2.4 сигмы\n"
     ]
    }
   ],
   "source": [
    "height = 190\n",
    "M = 178\n",
    "D = 25\n",
    "std = 5\n",
    "sigma_num = (height - M) / std\n",
    "print(f'Ответ: на {sigma_num} сигмы')"
   ]
  }
 ],
 "metadata": {
  "kernelspec": {
   "display_name": "Python 3 (ipykernel)",
   "language": "python",
   "name": "python3"
  },
  "language_info": {
   "codemirror_mode": {
    "name": "ipython",
    "version": 3
   },
   "file_extension": ".py",
   "mimetype": "text/x-python",
   "name": "python",
   "nbconvert_exporter": "python",
   "pygments_lexer": "ipython3",
   "version": "3.9.12"
  }
 },
 "nbformat": 4,
 "nbformat_minor": 5
}
