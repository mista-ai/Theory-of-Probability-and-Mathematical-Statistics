{
 "cells": [
  {
   "cell_type": "markdown",
   "id": "5736e36a",
   "metadata": {},
   "source": [
    "### 1. Известно, что генеральная совокупность распределена нормально со средним квадратическим отклонением, равным 16. Найти доверительный интервал для оценки математического ожидания a с надежностью 0.95, если выборочная средняя M = 80, а объем выборки n = 256."
   ]
  },
  {
   "cell_type": "markdown",
   "id": "c1f20f54",
   "metadata": {},
   "source": [
    "Т.к. известно среднее квадратическое отклонение генеральной совокупности $\\sigma=16$, будем использовать $Z$-критерий для вычисления доверительного интервала.\n",
    "\n",
    "$\\displaystyle\\bar X\\pm z_{\\alpha/2}\\cdot\\frac{\\sigma}{\\sqrt n}$\n",
    "\n",
    "$\\bar X=M=80$\n",
    "\n",
    "$z_{\\alpha/2} = 1.96$"
   ]
  },
  {
   "cell_type": "code",
   "execution_count": 1,
   "id": "f7cec29a",
   "metadata": {},
   "outputs": [
    {
     "name": "stdout",
     "output_type": "stream",
     "text": [
      "Доверительный интервал для оценки мат. ожидания генеральной совокупности: [78.04; 81.96]\n"
     ]
    }
   ],
   "source": [
    "left = 80 - 1.96 * 16/256**(0.5)\n",
    "right = 80 + 1.96 * 16/256**(0.5)\n",
    "print(f'Доверительный интервал для оценки мат. ожидания генеральной совокупности: [{left}; {right}]')"
   ]
  },
  {
   "cell_type": "markdown",
   "id": "41d04462",
   "metadata": {},
   "source": [
    "### 2. В результате 10 независимых измерений некоторой величины X, выполненных с одинаковой точностью, получены опытные данные: 6.9, 6.1, 6.2, 6.8, 7.5, 6.3, 6.4, 6.9, 6.7, 6.1. Предполагая, что результаты измерений подчинены нормальному закону распределения вероятностей, оценить истинное значение величины X при помощи доверительного интервала, покрывающего это значение с доверительной вероятностью 0,95."
   ]
  },
  {
   "cell_type": "code",
   "execution_count": 2,
   "id": "f7dec53d",
   "metadata": {},
   "outputs": [],
   "source": [
    "from scipy import stats as stats\n",
    "import numpy as np"
   ]
  },
  {
   "cell_type": "code",
   "execution_count": 3,
   "id": "64b91fdd",
   "metadata": {},
   "outputs": [],
   "source": [
    "array = np.array([6.9, 6.1, 6.2, 6.8, 7.5, 6.3, 6.4, 6.9, 6.7, 6.1])"
   ]
  },
  {
   "cell_type": "code",
   "execution_count": 4,
   "id": "eeca5cf7",
   "metadata": {},
   "outputs": [
    {
     "name": "stdout",
     "output_type": "stream",
     "text": [
      "Среднее выборочное: 6.59,\n",
      "Размер выборки n=10,\n",
      "Среднее квадратическое отклонение по выборке(несмещенное):  0.45.\n"
     ]
    }
   ],
   "source": [
    "print(f'Среднее выборочное: {np.mean(array):.2f},\\\n",
    "\\nРазмер выборки n={array.size},\\\n",
    "\\nСреднее квадратическое отклонение по выборке(несмещенное): {np.std(array, ddof=1): .2f}.'\n",
    "     )"
   ]
  },
  {
   "cell_type": "code",
   "execution_count": 5,
   "id": "2101625c",
   "metadata": {},
   "outputs": [],
   "source": [
    "def table_t(conf, size):\n",
    "    alpha = 1 - conf\n",
    "    return stats.t.ppf(1 - alpha / 2, size - 1)"
   ]
  },
  {
   "cell_type": "code",
   "execution_count": 6,
   "id": "220e3d53",
   "metadata": {},
   "outputs": [
    {
     "name": "stdout",
     "output_type": "stream",
     "text": [
      "Табличное значение t-критерия для 95%-го доверительного интервала данной выборки: 2.262\n"
     ]
    }
   ],
   "source": [
    "print(f'Табличное значение t-критерия для 95%-го доверительного интервала данной выборки: {table_t(0.95, array.size):.3f}')"
   ]
  },
  {
   "cell_type": "code",
   "execution_count": 7,
   "id": "8c9e419f",
   "metadata": {},
   "outputs": [],
   "source": [
    "def conf_interval(array, conf):\n",
    "    return np.mean(array) - table_t(conf, array.size) * np.std(array, ddof=1) / array.size**0.5, \\\n",
    "           np.mean(array) + table_t(conf, array.size) * np.std(array, ddof=1) / array.size**0.5"
   ]
  },
  {
   "cell_type": "code",
   "execution_count": 8,
   "id": "fc696ba5",
   "metadata": {},
   "outputs": [
    {
     "name": "stdout",
     "output_type": "stream",
     "text": [
      "95%-й доверительный интервал для истинного значения Х: [6.268, 6.912].\n"
     ]
    }
   ],
   "source": [
    "left, right = conf_interval(array, 0.95)\n",
    "print(f'95%-й доверительный интервал для истинного значения Х: [{left:.3f}, {right:.3f}].')"
   ]
  },
  {
   "cell_type": "markdown",
   "id": "11f96550",
   "metadata": {},
   "source": [
    "#### 3. Проведите тест гипотезы. Утверждается, что шарики для подшипников, изготовленные автоматическим станком, имеют средний диаметр 17 мм. Используя односторонний критерий с α=0,05, проверить эту гипотезу, если в выборке из n=100 шариков средний диаметр оказался равным 17.5 мм, а дисперсия известна и равна 4 кв. мм."
   ]
  },
  {
   "cell_type": "markdown",
   "id": "4f0e3906",
   "metadata": {},
   "source": [
    "$H_0: \\mu=\\mu_0=17$\n",
    "\n",
    "$H_1: \\mu>\\mu_0$\n",
    "\n",
    "Используем z критерий, т.к. известны среднее и дисперсия.\n",
    "\n",
    "$z_н=\\frac{\\bar X-\\mu_0}{\\sigma/\\sqrt n}$"
   ]
  },
  {
   "cell_type": "code",
   "execution_count": 9,
   "id": "dd84a3cc",
   "metadata": {},
   "outputs": [
    {
     "name": "stdout",
     "output_type": "stream",
     "text": [
      "Наблюдаемое значение z: 2.5\n"
     ]
    }
   ],
   "source": [
    "z=(17.5-17)/(4**0.5 / 10)\n",
    "print(f'Наблюдаемое значение z: {z}')"
   ]
  },
  {
   "cell_type": "markdown",
   "id": "5fdee8eb",
   "metadata": {},
   "source": [
    "Табличное значение  𝑧 -критерия, для  𝛼=0.05"
   ]
  },
  {
   "cell_type": "code",
   "execution_count": 10,
   "id": "18963aa1",
   "metadata": {},
   "outputs": [
    {
     "name": "stdout",
     "output_type": "stream",
     "text": [
      "Табличное значение z:  1.645\n"
     ]
    }
   ],
   "source": [
    "z_table = stats.norm.ppf(0.95)\n",
    "print(f'Табличное значение z: {z_table: .3f}')"
   ]
  },
  {
   "cell_type": "code",
   "execution_count": 11,
   "id": "4084ec0b",
   "metadata": {},
   "outputs": [
    {
     "data": {
      "text/plain": [
       "False"
      ]
     },
     "execution_count": 11,
     "metadata": {},
     "output_type": "execute_result"
    }
   ],
   "source": [
    "z <= z_table"
   ]
  },
  {
   "cell_type": "markdown",
   "id": "bea0f91d",
   "metadata": {},
   "source": [
    "Отвергаем нулевую гипотезу на уровне значимости  𝛼=0.05, т.к.  $z_н>z_t$."
   ]
  },
  {
   "cell_type": "markdown",
   "id": "1d327c1f",
   "metadata": {},
   "source": [
    "### 4. Проведите тест гипотезы. Продавец утверждает, что средний вес пачки печенья составляет 200 г. Из партии извлечена выборка из 10 пачек. Вес каждой пачки составляет: 202, 203, 199, 197, 195, 201, 200, 204, 194, 190. Известно, что их веса распределены нормально. Верно ли утверждение продавца, если учитывать, что доверительная вероятность равна 99%? (Провести двусторонний тест.)"
   ]
  },
  {
   "cell_type": "markdown",
   "id": "9de82199",
   "metadata": {},
   "source": [
    "$H0: \\mu=\\mu_0=200$\n",
    "\n",
    "$H1: \\mu\\neq\\mu_0$"
   ]
  },
  {
   "cell_type": "code",
   "execution_count": 12,
   "id": "b1288897",
   "metadata": {},
   "outputs": [],
   "source": [
    "arr = np.array([202, 203, 199, 197, 195, 201, 200, 204, 194, 190])"
   ]
  },
  {
   "cell_type": "markdown",
   "id": "9fc89fd2",
   "metadata": {},
   "source": [
    "Наблюдаемое значение t-критерия $t_н$"
   ]
  },
  {
   "cell_type": "code",
   "execution_count": 13,
   "id": "1841d104",
   "metadata": {},
   "outputs": [
    {
     "name": "stdout",
     "output_type": "stream",
     "text": [
      "Наблюдаемое значение t-критерия: -1.0651\n"
     ]
    }
   ],
   "source": [
    "tn = (np.mean(arr) - 200) / (np.std(arr, ddof=1) / arr.size ** 0.5)\n",
    "print(f'Наблюдаемое значение t-критерия: {tn:.4f}')"
   ]
  },
  {
   "cell_type": "markdown",
   "id": "00f47dbd",
   "metadata": {},
   "source": [
    "Табличное значение $t$-критерия $t_t$, для $\\alpha/2=0.01/2=0.005$"
   ]
  },
  {
   "cell_type": "code",
   "execution_count": 14,
   "id": "036e9f41",
   "metadata": {},
   "outputs": [
    {
     "name": "stdout",
     "output_type": "stream",
     "text": [
      "Табличное значение t-критерия: 3.2498\n"
     ]
    }
   ],
   "source": [
    "tt = stats.t.ppf(0.995, arr.size - 1)\n",
    "print(f'Табличное значение t-критерия: {tt:.4f}')"
   ]
  },
  {
   "cell_type": "code",
   "execution_count": 15,
   "id": "86e5e1eb",
   "metadata": {},
   "outputs": [
    {
     "data": {
      "text/plain": [
       "True"
      ]
     },
     "execution_count": 15,
     "metadata": {},
     "output_type": "execute_result"
    }
   ],
   "source": [
    "np.abs(tn) < tt"
   ]
  },
  {
   "cell_type": "markdown",
   "id": "35d0e78e",
   "metadata": {},
   "source": [
    "Так как $|t_н|<t_t$, принимаем нулевую гипотезу $H0: \\mu_0=200$ на уровне значимости $\\alpha=0.01$"
   ]
  }
 ],
 "metadata": {
  "kernelspec": {
   "display_name": "Python 3 (ipykernel)",
   "language": "python",
   "name": "python3"
  },
  "language_info": {
   "codemirror_mode": {
    "name": "ipython",
    "version": 3
   },
   "file_extension": ".py",
   "mimetype": "text/x-python",
   "name": "python",
   "nbconvert_exporter": "python",
   "pygments_lexer": "ipython3",
   "version": "3.9.12"
  }
 },
 "nbformat": 4,
 "nbformat_minor": 5
}
