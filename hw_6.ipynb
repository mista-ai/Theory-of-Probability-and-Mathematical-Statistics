{
 "cells": [
  {
   "cell_type": "markdown",
   "id": "ca22dce9",
   "metadata": {},
   "source": [
    "1. Даны значения величины заработной платы заемщиков банка (zp) и значения их поведенческого кредитного скоринга (ks):\n",
    "zp = [35, 45, 190, 200, 40, 70, 54, 150, 120, 110],\n",
    "ks = [401, 574, 874, 919, 459, 739, 653, 902, 746, 832].\n",
    "Найдите ковариацию этих двух величин с помощью элементарных действий, а затем с помощью функции cov из numpy\n",
    "Полученные значения должны быть равны.\n",
    "Найдите коэффициент корреляции Пирсона с помощью ковариации и среднеквадратичных отклонений двух признаков,\n",
    "а затем с использованием функций из библиотек numpy и pandas."
   ]
  },
  {
   "cell_type": "code",
   "execution_count": 1,
   "id": "b236a535",
   "metadata": {},
   "outputs": [],
   "source": [
    "import numpy as np\n",
    "from scipy import stats as stats"
   ]
  },
  {
   "cell_type": "code",
   "execution_count": 2,
   "id": "b4655a1f",
   "metadata": {},
   "outputs": [],
   "source": [
    "zp = np.array([35, 45, 190, 200, 40, 70, 54, 150, 120, 110])\n",
    "ks = np.array([401, 574, 874, 919, 459, 739, 653, 902, 746, 832])"
   ]
  },
  {
   "cell_type": "code",
   "execution_count": 3,
   "id": "c717ce6c",
   "metadata": {},
   "outputs": [
    {
     "name": "stdout",
     "output_type": "stream",
     "text": [
      "Ковариация: 9157.839999999997\n"
     ]
    }
   ],
   "source": [
    "cov = np.mean(zp * ks) - np.mean(zp) * np.mean(ks)\n",
    "print('Ковариация:', cov)"
   ]
  },
  {
   "cell_type": "code",
   "execution_count": 4,
   "id": "ab7d8ec3",
   "metadata": {},
   "outputs": [
    {
     "name": "stdout",
     "output_type": "stream",
     "text": [
      "Ковариация: 9157.84\n"
     ]
    }
   ],
   "source": [
    "np_cov = np.cov(zp, ks, ddof=0)[0][1]\n",
    "print('Ковариация:', np_cov)"
   ]
  },
  {
   "cell_type": "code",
   "execution_count": 5,
   "id": "ef63bc0b",
   "metadata": {},
   "outputs": [
    {
     "name": "stdout",
     "output_type": "stream",
     "text": [
      "Коэффициент Пирсона: 0.8874900920739162\n"
     ]
    }
   ],
   "source": [
    "pearson = np_cov / (np.std(zp) * np.std(ks))\n",
    "print('Коэффициент Пирсона:', pearson)"
   ]
  },
  {
   "cell_type": "code",
   "execution_count": 6,
   "id": "0e7c991b",
   "metadata": {},
   "outputs": [
    {
     "name": "stdout",
     "output_type": "stream",
     "text": [
      "Коэффициент Пирсона: 0.8874900920739162\n"
     ]
    }
   ],
   "source": [
    "np_pearson = np.corrcoef(zp, ks)[0][1]\n",
    "print('Коэффициент Пирсона:', np_pearson)"
   ]
  },
  {
   "cell_type": "markdown",
   "id": "bbc4c0fe",
   "metadata": {},
   "source": [
    "2. Измерены значения IQ выборки студентов, обучающихся в местных технических вузах:\n",
    "131, 125, 115, 122, 131, 115, 107, 99, 125, 111.\n",
    "Известно, что в генеральной совокупности IQ распределен нормально.\n",
    "Найдите доверительный интервал для математического ожидания с надежностью 0.95."
   ]
  },
  {
   "cell_type": "code",
   "execution_count": 7,
   "id": "72c04ff8",
   "metadata": {},
   "outputs": [],
   "source": [
    "def table_t(conf, size):\n",
    "    alpha = 1 - conf\n",
    "    return stats.t.ppf(1 - alpha / 2, size - 1)"
   ]
  },
  {
   "cell_type": "code",
   "execution_count": 8,
   "id": "d211de2c",
   "metadata": {},
   "outputs": [],
   "source": [
    "def conf_interval(array, conf):\n",
    "    return np.mean(array) - table_t(conf, array.size) * np.std(array, ddof=1) / array.size**0.5, \\\n",
    "           np.mean(array) + table_t(conf, array.size) * np.std(array, ddof=1) / array.size**0.5"
   ]
  },
  {
   "cell_type": "code",
   "execution_count": 9,
   "id": "c0c546cc",
   "metadata": {},
   "outputs": [],
   "source": [
    "iq = np.array([131, 125, 115, 122, 131, 115, 107, 99, 125, 111])"
   ]
  },
  {
   "cell_type": "code",
   "execution_count": 10,
   "id": "f930c71c",
   "metadata": {},
   "outputs": [
    {
     "name": "stdout",
     "output_type": "stream",
     "text": [
      "95%-й доверительный интервал: [110.556, 125.644].\n"
     ]
    }
   ],
   "source": [
    "left, right = conf_interval(iq, 0.95)\n",
    "print(f'95%-й доверительный интервал: [{left:.3f}, {right:.3f}].')"
   ]
  },
  {
   "cell_type": "markdown",
   "id": "8e529d95",
   "metadata": {},
   "source": [
    "3. Известно, что рост футболистов в сборной распределен нормально с дисперсией генеральной совокупности, равной 25 кв.см. Объем выборки равен 27, среднее выборочное составляет 174.2. Найдите доверительный интервал для математического ожидания с надежностью 0.95."
   ]
  },
  {
   "cell_type": "code",
   "execution_count": 11,
   "id": "36bdfb2b",
   "metadata": {},
   "outputs": [],
   "source": [
    "def table_z(conf):\n",
    "    alpha = 1 - conf\n",
    "    return stats.norm.ppf(1 - alpha /2)"
   ]
  },
  {
   "cell_type": "code",
   "execution_count": 12,
   "id": "0bd8f06b",
   "metadata": {},
   "outputs": [],
   "source": [
    "tz = table_z(0.95)\n",
    "disp = 25\n",
    "n = 27\n",
    "mean = 174.2"
   ]
  },
  {
   "cell_type": "code",
   "execution_count": 13,
   "id": "30f45e29",
   "metadata": {},
   "outputs": [
    {
     "name": "stdout",
     "output_type": "stream",
     "text": [
      "95%-й доверительный интервал: [172.314, 176.086].\n"
     ]
    }
   ],
   "source": [
    "left = mean - tz * disp**0.5/n**0.5\n",
    "right = mean + tz * disp**0.5/n**0.5\n",
    "print(f'95%-й доверительный интервал: [{left:.3f}, {right:.3f}].')"
   ]
  }
 ],
 "metadata": {
  "kernelspec": {
   "display_name": "Python 3 (ipykernel)",
   "language": "python",
   "name": "python3"
  },
  "language_info": {
   "codemirror_mode": {
    "name": "ipython",
    "version": 3
   },
   "file_extension": ".py",
   "mimetype": "text/x-python",
   "name": "python",
   "nbconvert_exporter": "python",
   "pygments_lexer": "ipython3",
   "version": "3.9.12"
  }
 },
 "nbformat": 4,
 "nbformat_minor": 5
}
